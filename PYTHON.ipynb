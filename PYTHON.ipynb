{
 "cells": [
  {
   "cell_type": "raw",
   "id": "e19c62f3",
   "metadata": {},
   "source": []
  },
  {
   "cell_type": "code",
   "execution_count": 1,
   "id": "14248856",
   "metadata": {},
   "outputs": [
    {
     "name": "stdout",
     "output_type": "stream",
     "text": [
      "--------------------------------#exercice2-----------------------\n",
      "[2002, 2009, 2016, 2023, 2037, 2044, 2051, 2058, 2072, 2079, 2086, 2093, 2107, 2114, 2121, 2128, 2142, 2149, 2156, 2163, 2177, 2184, 2191, 2198, 2212, 2219, 2226, 2233, 2247, 2254, 2261, 2268, 2282, 2289, 2296, 2303, 2317, 2324, 2331, 2338, 2352, 2359, 2366, 2373, 2387, 2394, 2401, 2408, 2422, 2429, 2436, 2443, 2457, 2464, 2471, 2478, 2492, 2499, 2506, 2513, 2527, 2534, 2541, 2548, 2562, 2569, 2576, 2583, 2597, 2604, 2611, 2618, 2632, 2639, 2646, 2653, 2667, 2674, 2681, 2688, 2702, 2709, 2716, 2723, 2737, 2744, 2751, 2758, 2772, 2779, 2786, 2793, 2807, 2814, 2821, 2828, 2842, 2849, 2856, 2863, 2877, 2884, 2891, 2898, 2912, 2919, 2926, 2933, 2947, 2954, 2961, 2968, 2982, 2989, 2996, 3003, 3017, 3024, 3031, 3038, 3052, 3059, 3066, 3073, 3087, 3094, 3101, 3108, 3122, 3129, 3136, 3143, 3157, 3164, 3171, 3178, 3192, 3199]\n"
     ]
    }
   ],
   "source": [
    "print(\"--------------------------------#exercice2-----------------------\")\n",
    "l = []\n",
    "for i in range(2000, 3201):\n",
    "    if i % 7 == 0 and i % 5 != 0:\n",
    "        l.append(i)\n",
    "\n",
    "print(l)\n",
    "\n",
    "    "
   ]
  },
  {
   "cell_type": "raw",
   "id": "4dfee9be",
   "metadata": {},
   "source": []
  },
  {
   "cell_type": "code",
   "execution_count": 5,
   "id": "6311be4e",
   "metadata": {},
   "outputs": [
    {
     "name": "stdout",
     "output_type": "stream",
     "text": [
      "--------------------------------#exercice2-----------------------\n",
      "entrer un nombrem3\n",
      "6\n"
     ]
    }
   ],
   "source": [
    "print(\"--------------------------------#exercice2-----------------------\")\n",
    "\n",
    "def factoriel(n):\n",
    "    if n==0:\n",
    "        return 1\n",
    "    else:\n",
    "        return n * factoriel(n-1)\n",
    "        \n",
    "nbre = int(input(\"entrer un nombrem\"))\n",
    "print(factoriel(nbre))\n",
    "\n"
   ]
  },
  {
   "cell_type": "code",
   "execution_count": 6,
   "id": "9c893319",
   "metadata": {},
   "outputs": [
    {
     "name": "stdout",
     "output_type": "stream",
     "text": [
      "--------------------------------#exercice3-----------------------\n",
      "entrer un nombre l de debut: 1\n",
      "entrer un nombre n de fin : 4\n",
      "{1: 1, 2: 4, 3: 9, 4: 16}\n"
     ]
    }
   ],
   "source": [
    "print(\"--------------------------------#exercice3-----------------------\")\n",
    "\n",
    "#nbre1=int(input(\"entrer un nombre: \"))\n",
    "\n",
    "d={}\n",
    "l=int(input(\"entrer un nombre l de debut: \"))\n",
    "n=int(input(\"entrer un nombre n de fin : \"))\n",
    "for i in range(l,n+1):\n",
    "    d[i]=i*i\n",
    "print(d)\n"
   ]
  },
  {
   "cell_type": "code",
   "execution_count": 7,
   "id": "0c90e7c2",
   "metadata": {},
   "outputs": [
    {
     "name": "stdout",
     "output_type": "stream",
     "text": [
      "--------------------------------#exercice4-----------------------\n",
      "entrer le mot: LEILQ\n",
      "entrer le nobre: 3\n",
      "LEIQ\n"
     ]
    }
   ],
   "source": [
    "print(\"--------------------------------#exercice4-----------------------\")\n",
    "\n",
    "def remove_chars(mot1,d):\n",
    "    d=mot1[0:d]+mot1[d+1:]\n",
    "    \n",
    "    return  d\n",
    "mot=input(\"entrer le mot: \")\n",
    "nbre=int(input(\"entrer le nobre: \"))\n",
    "l=remove_chars(mot, nbre)\n",
    "print(l)"
   ]
  },
  {
   "cell_type": "code",
   "execution_count": null,
   "id": "3a321a5b",
   "metadata": {},
   "outputs": [],
   "source": [
    "print(\"--------------------------------#exercice5-----------------------\")\n",
    "\n",
    "\n",
    "import numpy as np\n",
    "tab=np.array([[1,2],[2,3],[4,5]])\n",
    "print(tab)\n",
    "list_tab=list(tab)\n",
    "print(list_tab)\n"
   ]
  },
  {
   "cell_type": "code",
   "execution_count": null,
   "id": "301ec664",
   "metadata": {},
   "outputs": [],
   "source": [
    "\n",
    "print(\"--------------------------------#exercice6-----------------------\")\n",
    "import numpy as np\n",
    "\n",
    "tx=np.array([[2 ,1, 0],[0, 1 ,2]])\n",
    "x=np.cov(tx)\n",
    "print(x)"
   ]
  },
  {
   "cell_type": "code",
   "execution_count": null,
   "id": "ff301e0e",
   "metadata": {},
   "outputs": [],
   "source": [
    "print(\"--------------------------------#exercice7-----------------------\")\n",
    "d=[]\n",
    "\n",
    "C = 50\n",
    "H = 30\n",
    "s=\"100 150 45 50\"\n",
    "l = s.split(\" \")\n",
    "\n",
    "for i in l:\n",
    "    s = int((2 * C * int(i))//H)\n",
    "    d.append(s)\n",
    "print(d)\n"
   ]
  }
 ],
 "metadata": {
  "kernelspec": {
   "display_name": "Python 3 (ipykernel)",
   "language": "python",
   "name": "python3"
  },
  "language_info": {
   "codemirror_mode": {
    "name": "ipython",
    "version": 3
   },
   "file_extension": ".py",
   "mimetype": "text/x-python",
   "name": "python",
   "nbconvert_exporter": "python",
   "pygments_lexer": "ipython3",
   "version": "3.9.12"
  }
 },
 "nbformat": 4,
 "nbformat_minor": 5
}
